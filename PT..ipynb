#Formula
#P(A|B)=(P(A)*P(B|A))/P(B)
#
#Pregunta: ¿Sacamos 1 tornillo probabilidad que sea defectuoso?

F1=0.2
F2=0.3
F3=0.5

F1D=0.6
F1ND=0.4

F2D=0.04
F2ND=00.96

F3D=0.01
F3ND=0.99

PT = F1*F1D + F2*F2D + F3*F3D
PTPorcentaje = PT*100
print("La probabilidad de que sea defectuoso es:", PTPorcentaje, "%")
