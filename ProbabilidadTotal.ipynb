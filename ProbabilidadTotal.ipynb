{
  "cells": [
    {
      "metadata": {
        "trusted": true
      },
      "cell_type": "code",
      "source": "#Formula\n#P(A|B)=(P(A)*P(B|A))/P(B)\n#\n#Pregunta: ¿Sacamos 1 tornillo probabilidad que sea defectuoso?\n\nF1=0.2\nF2=0.3\nF3=0.5\n\nF1D=0.6\nF1ND=0.4\n\nF2D=0.04\nF2ND=00.96\n\nF3D=0.01\nF3ND=0.99\n\nPT = F1*F1D + F2*F2D + F3*F3D\nPTPorcentaje = PT*100\nprint(\"La probabilidad de que sea defectuoso es:\", PTPorcentaje, \"%\")",
      "execution_count": 5,
      "outputs": [
        {
          "output_type": "stream",
          "text": "La probabilidad de que sea defectuoso es: 13.700000000000001 %\n",
          "name": "stdout"
        }
      ]
    },
    {
      "metadata": {
        "trusted": true
      },
      "cell_type": "code",
      "source": "",
      "execution_count": null,
      "outputs": []
    }
  ],
  "metadata": {
    "kernelspec": {
      "name": "python36",
      "display_name": "Python 3.6",
      "language": "python"
    },
    "language_info": {
      "mimetype": "text/x-python",
      "nbconvert_exporter": "python",
      "name": "python",
      "pygments_lexer": "ipython3",
      "version": "3.6.6",
      "file_extension": ".py",
      "codemirror_mode": {
        "version": 3,
        "name": "ipython"
      }
    }
  },
  "nbformat": 4,
  "nbformat_minor": 2
}